{
 "cells": [
  {
   "cell_type": "markdown",
   "metadata": {},
   "source": [
    "# pagmo interface\n",
    "\n",
    "In this tutorial we show how to use *dsyre* to solve a symbolic regression problem using the pagmo interface, that is\n",
    "by considering the problem as an optimization problem, a UDP (User Defined Problem), and apply a suitable optimization algorithm to it, \n",
    "that is a UDA (User Defined Algorithm). \n",
    "\n",
    "This interface comes in handy when we look at symbolic regression from an operation research point of view as an optimization problem.\n",
    "\n",
    "Lets start with some imports:"
   ]
  },
  {
   "cell_type": "code",
   "execution_count": 1,
   "metadata": {},
   "outputs": [],
   "source": [
    "import pydsyre as dsy\n",
    "import numpy as np\n",
    "import pygmo as pg\n",
    "\n",
    "from matplotlib import pyplot as plt\n",
    "\n",
    "%matplotlib inline"
   ]
  },
  {
   "cell_type": "markdown",
   "metadata": {},
   "source": [
    "we will make use of the problem P1 from the paper:\n",
    "\n",
    "Izzo, Dario, Francesco Biscani, and Alessio Mereta. \"Differentiable genetic programming.\" \n",
    "European Conference on Genetic Programming. Springer, 2017.\n",
    "\n",
    "The functional form of such a problem is:\n",
    "\n",
    "$$\n",
    "     y = x^5 - \\pi x^3 + x\n",
    "$$\n",
    "\n",
    "where *x* is sampled in ten equally spaced points in [1,3]. We make use of the readily available *gym* module in *dsyre*, even if in this case it would be only a few lines of code to actually explicitly compute the dataset."
   ]
  },
  {
   "cell_type": "code",
   "execution_count": 2,
   "metadata": {},
   "outputs": [],
   "source": [
    "# We import the problem:\n",
    "xs, ys = dsy.gym.generate_P1()\n",
    "xs = np.array(xs)\n",
    "ys = np.array(ys)\n",
    "\n",
    "# Equivalently, in this case, we could just write:\n",
    "xs = np.linspace(1,3, 10)\n",
    "ys = xs**5 - np.pi * xs**3 + xs\n",
    "xs = xs.reshape(-1,1)"
   ]
  },
  {
   "cell_type": "code",
   "execution_count": 3,
   "metadata": {},
   "outputs": [
    {
     "data": {
      "image/png": "[encoded data removed]",
      "text/plain": [
       "<Figure size 400x300 with 1 Axes>"
      ]
     },
     "metadata": {},
     "output_type": "display_data"
    }
   ],
   "source": [
    "# We show the data\n",
    "plt.figure(figsize=(4,3))\n",
    "plt.plot(xs,ys, '.')\n",
    "plt.xlabel(\"xs\")\n",
    "plt.ylabel(\"ys\")\n",
    "plt.title(\"Problem P1:  $y = x^5 - \\pi x^3 + x$\");"
   ]
  },
  {
   "cell_type": "markdown",
   "metadata": {},
   "source": [
    "We are now ready to define some hyperparameters for our learning setup:"
   ]
  },
  {
   "cell_type": "code",
   "execution_count": 4,
   "metadata": {},
   "outputs": [],
   "source": [
    "length = 20 # The number of triplets used\n",
    "max_mut = 15 # The maximum number of mutations\n",
    "ncons = 1 # The number of constants in the formula\n",
    "popsize = 4 # The population size\n",
    "gen = 1000 # Maximum number of generations"
   ]
  },
  {
   "cell_type": "markdown",
   "metadata": {},
   "source": [
    "Then we instantiate the UDP and UDA "
   ]
  },
  {
   "cell_type": "code",
   "execution_count": 5,
   "metadata": {},
   "outputs": [],
   "source": [
    "## Instantiate the UDP\n",
    "udp = dsy.sr_problem(xs = xs, \n",
    "                     ys = ys, \n",
    "                     length = length,\n",
    "                     kernels = [\"sum\", \"mul\", \"diff\", \"div\"],\n",
    "                     ncons = ncons, \n",
    "                     multi_objective = False);\n",
    "                     \n",
    "## Instantiate the UDA\n",
    "uda = dsy.mes4dsyre(gen = gen, max_mut = max_mut, ftol = 1e-10)\n",
    "\n",
    "## Pagmo problem\n",
    "prob = pg.problem(udp)\n",
    "## Pagmo algorithm\n",
    "algo = pg.algorithm(uda)\n",
    "algo.set_verbosity(1)"
   ]
  },
  {
   "cell_type": "markdown",
   "metadata": {},
   "source": [
    "and solve ..."
   ]
  },
  {
   "cell_type": "code",
   "execution_count": 6,
   "metadata": {},
   "outputs": [
    {
     "name": "stdout",
     "output_type": "stream",
     "text": [
      "I am here!\n",
      "Gen:    Fevals: Best:       Constants and Formula:                             \n",
      "0       0       2.28187e+03 [-3.76599e+00] (2*c0 - x0)*x0*c0 \n",
      "1       4       9.48839e+02 [1.09722e+01] x0**2*c0 \n",
      "2       8       9.48839e+02 [-2.21907e+01] (x0 + x0*c0)/(c0 + x0) - (x0 + x0*c0) \n",
      "3       12      9.48839e+02 [-2.30985e+01] (x0 + x0*c0)/(c0 + x0) - (x0 + x0*c0) \n",
      "4       16      9.48839e+02 [9.97219e+00] x0*(x0 + x0*c0) \n",
      "5       20      9.24287e+02 [-1.23728e+01] x0**2*(-(c0 + x0**3) + x0**3) - (x0 + x0 ...\n",
      "6       24      8.61803e+02 [-1.23728e+01] x0**4 \n",
      "7       28      6.75155e+02 [-1.23728e+01] x0**2 + x0**4 \n",
      "8       32      1.32037e+01 [1.96430e-01] x0**3/c0 \n",
      "9       36      1.32037e+01 [3.48466e+00] x0**2*(x0 + x0**2) \n",
      "10      40      1.32037e+01 [3.23727e+00] (x0 + x0**2)**2 \n",
      "11      44      1.32037e+01 [3.23727e+00] (x0 + x0**2)**2 \n",
      "12      48      1.32037e+01 [3.23727e+00] (x0 + x0**2)**2 \n",
      "13      52      1.32037e+01 [3.23727e+00] (x0 + x0**2)**2 \n",
      "14      56      1.32037e+01 [3.23727e+00] (x0 + x0**2)**2 \n",
      "15      60      1.32037e+01 [3.23727e+00] (x0 + x0**2)**2 \n",
      "16      64      1.32037e+01 [3.23727e+00] (x0 + x0**2)**2 \n",
      "17      68      1.32037e+01 [3.23727e+00] (x0 + x0**2)**2 \n",
      "18      72      1.32037e+01 [3.23727e+00] (x0 + x0**2)**2 \n",
      "19      76      1.32037e+01 [3.23727e+00] (x0 + x0**2)**2 \n",
      "20      80      1.32037e+01 [1.08884e+01] c0 + x0*(-x0 + x0**2)**2 \n",
      "21      84      1.32037e+01 [1.08884e+01] c0 + x0*(-x0 + x0**2)**2 \n",
      "22      88      1.32037e+01 [1.08884e+01] c0 + x0*(-x0 + x0**2)**2 \n",
      "23      92      1.32037e+01 [1.08884e+01] x0*(-x0 + x0**2)**2 - (x0 - (-x0 + x0**2 ...\n",
      "24      96      1.32037e+01 [1.08884e+01] x0*(-x0 + x0**2)**2 - (x0 - (-x0 + x0**2 ...\n",
      "25      100     1.02064e+01 [8.44799e-01] x0*(-x0 + x0**2)**2 - (x0**2*c0 - x0**2* ...\n",
      "26      104     6.34953e+00 [-4.73967e+00] x0**3*(-x0 + x0**2) \n",
      "27      108     6.34953e+00 [-4.73967e+00] x0**3*(-x0 + x0**2) \n",
      "28      112     1.35487e-28 [3.14159e+00] x0 + x0**3*(-c0 + x0**2) \n",
      "Exit condition -- ftol < 1e-10\n"
     ]
    }
   ],
   "source": [
    "## Pagmo population\n",
    "pop = pg.population(prob, popsize)\n",
    "## Evolution!\n",
    "pop = algo.evolve(pop)"
   ]
  },
  {
   "cell_type": "markdown",
   "metadata": {},
   "source": [
    "We can now show the final evolved formula as decoded directly from the chromosome:"
   ]
  },
  {
   "cell_type": "code",
   "execution_count": 7,
   "metadata": {},
   "outputs": [
    {
     "data": {
      "text/plain": [
       "'((((x0*x0)/x0)*((x0*x0)*((x0*x0)-c0)))+((x0*x0)/x0))'"
      ]
     },
     "execution_count": 7,
     "metadata": {},
     "output_type": "execute_result"
    }
   ],
   "source": [
    "udp.pretty(pop.champion_x)"
   ]
  },
  {
   "cell_type": "markdown",
   "metadata": {},
   "source": [
    "... and the same formula as simplified by removing excessive parenthesis and repetitions:"
   ]
  },
  {
   "cell_type": "code",
   "execution_count": 8,
   "metadata": {},
   "outputs": [
    {
     "data": {
      "text/plain": [
       "'x0 + x0**3*(-c0 + x0**2)'"
      ]
     },
     "execution_count": 8,
     "metadata": {},
     "output_type": "execute_result"
    }
   ],
   "source": [
    "udp.prettier(pop.champion_x)"
   ]
  },
  {
   "cell_type": "markdown",
   "metadata": {},
   "source": [
    "Let us now use our newly found model to predict points! In this case we have a zero loss, hence our model coincides with the data ....\n"
   ]
  },
  {
   "cell_type": "code",
   "execution_count": 20,
   "metadata": {},
   "outputs": [
    {
     "data": {
      "text/plain": [
       "Text(0, 0.5, 'ys')"
      ]
     },
     "execution_count": 20,
     "metadata": {},
     "output_type": "execute_result"
    },
    {
     "data": {
      "image/png": "[encoded data removed]",
      "text/plain": [
       "<Figure size 700x250 with 2 Axes>"
      ]
     },
     "metadata": {},
     "output_type": "display_data"
    }
   ],
   "source": [
    "# We predict\n",
    "ys_predicted = udp.predict(pop.champion_x, xs)\n",
    "fig, ax = plt.subplots(1,2,figsize=(7,2.5), sharey=True)\n",
    "ax[0].plot(xs,ys_predicted, 'r.')\n",
    "ax[1].plot(xs,ys, '.')\n",
    "\n",
    "ax[0].set_xlabel(\"xs\")\n",
    "ax[1].set_xlabel(\"xs\")\n",
    "\n",
    "ax[0].set_ylabel(\"ys_predicted\")\n",
    "ax[1].set_ylabel(\"ys\")\n",
    "\n"
   ]
  }
 ],
 "metadata": {
  "kernelspec": {
   "display_name": "Python 3.10.6 ('dsyre')",
   "language": "python",
   "name": "python3"
  },
  "language_info": {
   "codemirror_mode": {
    "name": "ipython",
    "version": 3
   },
   "file_extension": ".py",
   "mimetype": "text/x-python",
   "name": "python",
   "nbconvert_exporter": "python",
   "pygments_lexer": "ipython3",
   "version": "3.10.6"
  },
  "orig_nbformat": 4,
  "vscode": {
   "interpreter": {
    "hash": "723ca32fd6b27740bf566cd8ae34203e48ddb7e5921f5c19c5b1ea06d120d1f9"
   }
  }
 },
 "nbformat": 4,
 "nbformat_minor": 2
}
