{
 "cells": [
  {
   "cell_type": "markdown",
   "metadata": {},
   "source": [
    "# A gentle introduction\n",
    "\n",
    "## Preamble\n",
    "In this tutorial we will look into *py-dsyre* expression encoding. To explain it, it is perhaps best to start from a concrete example. \n",
    "\n",
    "Consider the following mathematical formula $f(x,c) = \\frac{x+\\sin(cx)}{cx}$ containing one independent variable $x$ and one constant $c$. \n",
    "\n",
    "A (possible) decomposition in simple, at most binary, operations is:\n",
    "\n",
    "$$\n",
    "\\begin{array}{l}\n",
    "    u_0 = x \\\\\n",
    "    u_1 = c \\\\\n",
    "    u_2 = u_0 \\cdot u_1 \\\\\n",
    "    u_3 = \\sin(u_2) \\\\\n",
    "    u_4 = u_3+u_0 \\\\\n",
    "    u_5 = u_4 / u_2\n",
    "\\end{array}\n",
    "$$\n",
    "\n",
    "This sequence of decompositions is what *py-dsyre* encodes in a fixed length **genotype** made of integer triplets, each representing one of the $u_i$.\n",
    "\n",
    "Assigning, in this case, to the single operations the ids: $+: 0, \\cdot: 1, /: 2, \\sin: 3$ the above sequence of decompositions is uniquely determined by the triplets:\n",
    "$$\n",
    "\\mathbf x = [\\underbrace{1, 0, 1}_{u_2}, \\underbrace{3, 2, 0}_{u_3}, \\underbrace{0, 3, 0}_{u_4}, \\underbrace{2, 4, 2}_{u_5}]\n",
    "$$\n",
    "Note that the independent variable and parameters define the first $u_0=x$ and $u_1=c$.\n",
    "\n",
    "Any **genotype** is then easily expressed into the various $u_i$, which are ALL considered in *py-dsyre* as **phenotype**, that is, as possible models. With respect to Cartesian Genetic Programming, or other popular genetic programming approaches, *py-dsyre* does not define output nodes nor makes use of introns.\n",
    "\n",
    "Lets see how this looks, first we import the module:"
   ]
  },
  {
   "cell_type": "code",
   "execution_count": 1,
   "metadata": {},
   "outputs": [],
   "source": [
    "import pydsyre as dsy\n",
    "import numpy as np"
   ]
  },
  {
   "cell_type": "markdown",
   "metadata": {},
   "source": [
    "We start defining the main object able to manipulate genotypes and phenotypes of our symbolic regression system, letting it know about the number of input terminals (variables and constants) and the kernels (binary and unary operations) we intend to use:"
   ]
  },
  {
   "cell_type": "code",
   "execution_count": 2,
   "metadata": {},
   "outputs": [],
   "source": [
    "ex = dsy.expression(nvars=1, \n",
    "                    ncons=1, \n",
    "                    kernels=[\"sum\", \"mul\", \"div\", \"sin\"])"
   ]
  },
  {
   "cell_type": "markdown",
   "metadata": {},
   "source": [
    "we then define a genotype assembling triplets as detailed above:"
   ]
  },
  {
   "cell_type": "code",
   "execution_count": 3,
   "metadata": {},
   "outputs": [],
   "source": [
    "geno = [1,0,1,3,2,0,0,3,0,2,4,2]"
   ]
  },
  {
   "cell_type": "markdown",
   "metadata": {},
   "source": [
    "Finally, we peek at the symbolic representation of the phenotype and see that indeed it contains the correct expressions:"
   ]
  },
  {
   "cell_type": "code",
   "execution_count": 4,
   "metadata": {},
   "outputs": [
    {
     "name": "stdout",
     "output_type": "stream",
     "text": [
      "['x', 'c', '(x*c)', 'sin((x*c))', '(sin((x*c))+x)', '((sin((x*c))+x)/(x*c))']\n"
     ]
    }
   ],
   "source": [
    "print(ex.sphenotype(geno=geno, vars=[\"x\"], cons=[\"c\"]))"
   ]
  },
  {
   "cell_type": "markdown",
   "metadata": {},
   "source": [
    "## Working with randomness\n",
    "Now that we have understood how the basic idea works, we can quickly take a look at how to **generate** and **manipulate** genotypes. We start by creatin a random genotype of length 10. Since the expression has *nvars*=1 and *ncons*=1 the number of expressed models (dimensionality of the vector $[u_0, u_1, ... ]) will be 12:"
   ]
  },
  {
   "cell_type": "code",
   "execution_count": 5,
   "metadata": {},
   "outputs": [
    {
     "name": "stdout",
     "output_type": "stream",
     "text": [
      "Number of models: 12\n",
      "Phenotype: ['x', 'c', '(c/c)', '(c+(c/c))', '(x+(c+(c/c)))', 'sin(x)', 'sin(x)', '(sin(x)+c)', '((c/c)+(x+(c+(c/c))))', '(((c/c)+(x+(c+(c/c))))/(x+(c+(c/c))))', '(sin(x)*(sin(x)+c))', '(((c/c)+(x+(c+(c/c))))/(c/c))']\n"
     ]
    }
   ],
   "source": [
    "# We create a random genotype\n",
    "geno = ex.random_genotype(length = 10)\n",
    "# We compute the symbolic form of the phenotype\n",
    "sphen = ex.sphenotype(geno=geno, vars=[\"x\"], cons=[\"c\"])\n",
    "print(f\"Number of models: {len(sphen)}\\nPhenotype: {sphen}\")"
   ]
  },
  {
   "cell_type": "markdown",
   "metadata": {},
   "source": [
    "Let us now mutate at random three elements in the genotype and see what effect it has on the phenotype:"
   ]
  },
  {
   "cell_type": "code",
   "execution_count": 6,
   "metadata": {},
   "outputs": [
    {
     "name": "stdout",
     "output_type": "stream",
     "text": [
      "Number of models: 12\n",
      "Phenotype: ['x', 'c', '(c/c)', '(c+(c/c))', '(x+(c+(c/c)))', 'sin(x)', 'sin(x)', '(sin(x)+c)', '((c/c)+sin(x))', '(((c/c)+sin(x))/(c+(c/c)))', '(sin(x)*(sin(x)+c))', '(((c/c)+sin(x))/(c/c))']\n"
     ]
    }
   ],
   "source": [
    "mutated_geno = ex.mutate(geno = geno, N = 3)\n",
    "sphen = ex.sphenotype(geno=mutated_geno, vars=[\"x\"], cons=[\"c\"])\n",
    "print(f\"Number of models: {len(sphen)}\\nPhenotype: {sphen}\")"
   ]
  },
  {
   "cell_type": "markdown",
   "metadata": {},
   "source": [
    "## Evaluating a phenotype on data\n",
    "All the models contained in the phenotype need to be evaluated and assessed on data. To show how this is done we now make use of an expression with 10 variables and 3 constants:"
   ]
  },
  {
   "cell_type": "code",
   "execution_count": 7,
   "metadata": {},
   "outputs": [],
   "source": [
    "ex = dsy.expression(nvars=3, \n",
    "                    ncons=2, \n",
    "                    kernels=[\"sum\", \"mul\", \"div\", \"sin\"])\n"
   ]
  },
  {
   "cell_type": "markdown",
   "metadata": {},
   "source": [
    "and we generate a random genotype, this time of greater length:"
   ]
  },
  {
   "cell_type": "code",
   "execution_count": 8,
   "metadata": {},
   "outputs": [
    {
     "name": "stdout",
     "output_type": "stream",
     "text": [
      "(((((x2/x0)*x1)*x2)*(((x2/x0)*x1)*x2))+((sin(x0)*((x0/c0)/x0))*((((x2/x0)*x1)*x2)+c0)))\n"
     ]
    }
   ],
   "source": [
    "geno = ex.random_genotype(length = 100)\n",
    "# Out of curiosity we also print the last expression in the phenotype\n",
    "print(ex.sphenotype(geno)[-1])"
   ]
  },
  {
   "cell_type": "markdown",
   "metadata": {},
   "source": [
    "we create a meaningless dataset:"
   ]
  },
  {
   "cell_type": "code",
   "execution_count": 9,
   "metadata": {},
   "outputs": [],
   "source": [
    "# Data are just 1024 randomly distributed points\n",
    "X = np.random.randn(1024, 3)"
   ]
  },
  {
   "cell_type": "markdown",
   "metadata": {},
   "source": [
    "and compute the phenotype when the model parameters are (arbitrarily) [0.2, -0.4]:"
   ]
  },
  {
   "cell_type": "code",
   "execution_count": 16,
   "metadata": {},
   "outputs": [
    {
     "name": "stdout",
     "output_type": "stream",
     "text": [
      "First 20 values in the phenotype for the first instance:  [-1.3137669274472548, -0.48195417432681165, 0.5837987234947484, 0.2, -0.4, -0.444370086731527, -0.9671493967307924, -6.568834637236273, 0.21416601824622677, 0.1250298480681002, 0.01563246290793222, 5.0, 0.21253257371430564, -0.9671493967307924, 0.19278166973072466, -0.26778815608058487, 0.11254569270198322, 0.3250298480681002, 0.9410322215777032, 0.21093616406148863]\n"
     ]
    }
   ],
   "source": [
    "phen = ex.phenotype(geno = geno, xs = X, cons = [0.2, -0.4])\n",
    "print(\"First 20 values in the phenotype for the first instance: \", phen[0][:20])"
   ]
  },
  {
   "cell_type": "markdown",
   "metadata": {},
   "source": [
    "and we time it:"
   ]
  },
  {
   "cell_type": "code",
   "execution_count": 17,
   "metadata": {},
   "outputs": [
    {
     "name": "stdout",
     "output_type": "stream",
     "text": [
      "32.5 µs ± 82.5 ns per loop (mean ± std. dev. of 7 runs, 10,000 loops each)\n"
     ]
    }
   ],
   "source": [
    "%timeit ex.phenotype(geno = geno, xs = X, cons = [0.2, -0.4])"
   ]
  }
 ],
 "metadata": {
  "kernelspec": {
   "display_name": "Python 3.10.6 ('dsyre')",
   "language": "python",
   "name": "python3"
  },
  "language_info": {
   "codemirror_mode": {
    "name": "ipython",
    "version": 3
   },
   "file_extension": ".py",
   "mimetype": "text/x-python",
   "name": "python",
   "nbconvert_exporter": "python",
   "pygments_lexer": "ipython3",
   "version": "3.10.6"
  },
  "orig_nbformat": 4,
  "vscode": {
   "interpreter": {
    "hash": "723ca32fd6b27740bf566cd8ae34203e48ddb7e5921f5c19c5b1ea06d120d1f9"
   }
  }
 },
 "nbformat": 4,
 "nbformat_minor": 2
}
